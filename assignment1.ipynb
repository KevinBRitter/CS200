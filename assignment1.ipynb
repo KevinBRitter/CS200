{
 "cells": [
  {
   "cell_type": "markdown",
   "metadata": {},
   "source": [
    "# Assignment 1 -- Cuckoo Clock Simulation\n",
    "<pre>\n",
    "PROGRAMMER:        Kevin Ritter\n",
    "CLASS:             CS200\n",
    "ASSIGNMENT:        Assignment 1\n",
    "INSTRUCTOR:        Dean Zeller\n",
    "SUBMISSION DATE:   9/13/19\n",
    "\n",
    "\n",
    "DESCRIPTION:\n",
    "The following is a simulation of a standard cuckoo clock.  It produces a\n",
    "tic sound on every minute.  Every 15 minutes, it gives a single cuckoo sound,\n",
    "and on the new hour, it cuckoos once for each hour.\n",
    "\n",
    "COPYRIGHT:\n",
    "This program is copyright (c) 2019 Kevin Ritter and Dean Zeller.\n",
    "This is original work, without use of outside sources.</pre>"
   ]
  },
  {
   "cell_type": "code",
   "execution_count": 1,
   "metadata": {},
   "outputs": [],
   "source": [
    "import java.util.Scanner;  // Import the Scanner class\n"
   ]
  },
  {
   "cell_type": "code",
   "execution_count": 2,
   "metadata": {},
   "outputs": [
    {
     "name": "stdout",
     "output_type": "stream",
     "text": [
      "Input for Cuckoo Clock Simulation\n",
      "\tEnter Start Hour => 10\n",
      "\tEnter end hour => 2\n"
     ]
    }
   ],
   "source": [
    "System.out.println(\"Input for Cuckoo Clock Simulation\");  // Output user input\n",
    "Scanner myObj = new Scanner(System.in);  // Create a Scanner object\n",
    "\n",
    "System.out.print(\"\\tEnter Start Hour => \");\n",
    "String startHour = myObj.nextLine();  // Read user input\n",
    "\n",
    "System.out.print(\"\\tEnter end hour => \");\n",
    "String endHour = myObj.nextLine(); // Read user input"
   ]
  },
  {
   "cell_type": "code",
   "execution_count": 3,
   "metadata": {},
   "outputs": [
    {
     "name": "stdout",
     "output_type": "stream",
     "text": [
      "\n",
      "Beginning Cuckoo Clock Simulation"
     ]
    }
   ],
   "source": [
    "System.out.print(\"\\nBeginning Cuckoo Clock Simulation\");  // Output initialization text"
   ]
  },
  {
   "cell_type": "code",
   "execution_count": 4,
   "metadata": {},
   "outputs": [],
   "source": [
    "// Declare variables\n",
    "int currentHour;\n",
    "int currentMinute;\n",
    "int stopHour = Integer.parseInt(endHour);\n",
    "String sound = \" Cuckoo!\";\n",
    "String tic = \" tic\";\n",
    "String output = \"\";"
   ]
  },
  {
   "cell_type": "code",
   "execution_count": 5,
   "metadata": {},
   "outputs": [
    {
     "name": "stdout",
     "output_type": "stream",
     "text": [
      "\n",
      "\n",
      "[10:00] It's 10 o'clock! Cuckoo! Cuckoo! Cuckoo! Cuckoo! Cuckoo! Cuckoo! Cuckoo! Cuckoo! Cuckoo! Cuckoo!\n",
      "[10:01] tic [10:02] tic [10:03] tic [10:04] tic [10:05] tic [10:06] tic [10:07] tic [10:08] tic [10:09] tic [10:10] tic [10:11] tic [10:12] tic [10:13] tic [10:14] tic \n",
      "[10:15] Cuckoo!\n",
      "[10:16] tic [10:17] tic [10:18] tic [10:19] tic [10:20] tic [10:21] tic [10:22] tic [10:23] tic [10:24] tic [10:25] tic [10:26] tic [10:27] tic [10:28] tic [10:29] tic \n",
      "[10:30] Cuckoo!\n",
      "[10:31] tic [10:32] tic [10:33] tic [10:34] tic [10:35] tic [10:36] tic [10:37] tic [10:38] tic [10:39] tic [10:40] tic [10:41] tic [10:42] tic [10:43] tic [10:44] tic \n",
      "[10:45] Cuckoo!\n",
      "[10:46] tic [10:47] tic [10:48] tic [10:49] tic [10:50] tic [10:51] tic [10:52] tic [10:53] tic [10:54] tic [10:55] tic [10:56] tic [10:57] tic [10:58] tic [10:59] tic \n",
      "\n",
      "[11:00] It's 11 o'clock! Cuckoo! Cuckoo! Cuckoo! Cuckoo! Cuckoo! Cuckoo! Cuckoo! Cuckoo! Cuckoo! Cuckoo! Cuckoo!\n",
      "[11:01] tic [11:02] tic [11:03] tic [11:04] tic [11:05] tic [11:06] tic [11:07] tic [11:08] tic [11:09] tic [11:10] tic [11:11] tic [11:12] tic [11:13] tic [11:14] tic \n",
      "[11:15] Cuckoo!\n",
      "[11:16] tic [11:17] tic [11:18] tic [11:19] tic [11:20] tic [11:21] tic [11:22] tic [11:23] tic [11:24] tic [11:25] tic [11:26] tic [11:27] tic [11:28] tic [11:29] tic \n",
      "[11:30] Cuckoo!\n",
      "[11:31] tic [11:32] tic [11:33] tic [11:34] tic [11:35] tic [11:36] tic [11:37] tic [11:38] tic [11:39] tic [11:40] tic [11:41] tic [11:42] tic [11:43] tic [11:44] tic \n",
      "[11:45] Cuckoo!\n",
      "[11:46] tic [11:47] tic [11:48] tic [11:49] tic [11:50] tic [11:51] tic [11:52] tic [11:53] tic [11:54] tic [11:55] tic [11:56] tic [11:57] tic [11:58] tic [11:59] tic \n",
      "\n",
      "[12:00] It's 12 o'clock! Cuckoo! Cuckoo! Cuckoo! Cuckoo! Cuckoo! Cuckoo! Cuckoo! Cuckoo! Cuckoo! Cuckoo! Cuckoo! Cuckoo!\n",
      "[12:01] tic [12:02] tic [12:03] tic [12:04] tic [12:05] tic [12:06] tic [12:07] tic [12:08] tic [12:09] tic [12:10] tic [12:11] tic [12:12] tic [12:13] tic [12:14] tic \n",
      "[12:15] Cuckoo!\n",
      "[12:16] tic [12:17] tic [12:18] tic [12:19] tic [12:20] tic [12:21] tic [12:22] tic [12:23] tic [12:24] tic [12:25] tic [12:26] tic [12:27] tic [12:28] tic [12:29] tic \n",
      "[12:30] Cuckoo!\n",
      "[12:31] tic [12:32] tic [12:33] tic [12:34] tic [12:35] tic [12:36] tic [12:37] tic [12:38] tic [12:39] tic [12:40] tic [12:41] tic [12:42] tic [12:43] tic [12:44] tic \n",
      "[12:45] Cuckoo!\n",
      "[12:46] tic [12:47] tic [12:48] tic [12:49] tic [12:50] tic [12:51] tic [12:52] tic [12:53] tic [12:54] tic [12:55] tic [12:56] tic [12:57] tic [12:58] tic [12:59] tic \n",
      "\n",
      "[1:00] It's 1 o'clock! Cuckoo!\n",
      "[1:01] tic [1:02] tic [1:03] tic [1:04] tic [1:05] tic [1:06] tic [1:07] tic [1:08] tic [1:09] tic [1:10] tic [1:11] tic [1:12] tic [1:13] tic [1:14] tic \n",
      "[1:15] Cuckoo!\n",
      "[1:16] tic [1:17] tic [1:18] tic [1:19] tic [1:20] tic [1:21] tic [1:22] tic [1:23] tic [1:24] tic [1:25] tic [1:26] tic [1:27] tic [1:28] tic [1:29] tic \n",
      "[1:30] Cuckoo!\n",
      "[1:31] tic [1:32] tic [1:33] tic [1:34] tic [1:35] tic [1:36] tic [1:37] tic [1:38] tic [1:39] tic [1:40] tic [1:41] tic [1:42] tic [1:43] tic [1:44] tic \n",
      "[1:45] Cuckoo!\n",
      "[1:46] tic [1:47] tic [1:48] tic [1:49] tic [1:50] tic [1:51] tic [1:52] tic [1:53] tic [1:54] tic [1:55] tic [1:56] tic [1:57] tic [1:58] tic [1:59] tic \n",
      "\n",
      "[2:00] It's 2 o'clock! Cuckoo! Cuckoo!\n"
     ]
    }
   ],
   "source": [
    "// Run a Do While Loop to iterate through the time:\n",
    "currentHour = Integer.parseInt(startHour) - 1;\n",
    "currentMinute = 59;\n",
    "\n",
    "do\n",
    "{\n",
    "    currentMinute ++;\n",
    "    if (currentMinute == 60)\n",
    "    {\n",
    "        currentMinute = 0;\n",
    "        currentHour ++;\n",
    "        if (currentHour > 12)\n",
    "        {\n",
    "            currentHour = 1;\n",
    "        }\n",
    "        output = \"\\n\\n[\" + currentHour + \":00]\" + \" It's \" + currentHour + \" o'clock!\";\n",
    "        for (int i = 0; i < currentHour; i++)\n",
    "        {\n",
    "            output = output + sound;\n",
    "        }\n",
    "        output += \"\\n\";\n",
    "    }\n",
    "    else if (currentMinute % 15 == 0)\n",
    "    {\n",
    "        output = \"\\n[\" + currentHour + \":\" + currentMinute + \"]\" + sound + \"\\n\\r\";\n",
    "    }\n",
    "    else\n",
    "    {\n",
    "            if (currentMinute < 10)\n",
    "            {\n",
    "                output = \"[\" + currentHour + \":0\" + currentMinute + \"]\" + tic;\n",
    "            }\n",
    "            else\n",
    "                output = \"[\" + currentHour + \":\" + currentMinute + \"]\" + tic;\n",
    "            output += \" \";\n",
    "    }\n",
    "\n",
    "    System.out.print(output);\n",
    "}while (currentHour != stopHour);"
   ]
  },
  {
   "cell_type": "code",
   "execution_count": 6,
   "metadata": {},
   "outputs": [
    {
     "name": "stdout",
     "output_type": "stream",
     "text": [
      "\n",
      "Ending Simulation\n"
     ]
    }
   ],
   "source": [
    "System.out.println(\"\\nEnding Simulation\");"
   ]
  },
  {
   "cell_type": "code",
   "execution_count": null,
   "metadata": {},
   "outputs": [],
   "source": []
  }
 ],
 "metadata": {
  "kernelspec": {
   "display_name": "Java",
   "language": "java",
   "name": "java"
  },
  "language_info": {
   "codemirror_mode": "java",
   "file_extension": ".jshell",
   "mimetype": "text/x-java-source",
   "name": "Java",
   "pygments_lexer": "java",
   "version": "12.0.2+10"
  }
 },
 "nbformat": 4,
 "nbformat_minor": 2
}
